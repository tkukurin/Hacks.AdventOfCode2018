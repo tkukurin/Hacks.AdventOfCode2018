{
 "cells": [
  {
   "cell_type": "markdown",
   "metadata": {},
   "source": [
    "[Norvig's setup code](https://github.com/norvig/pytudes/blob/master/ipynb/Advent%20of%20Code.ipynb)"
   ]
  },
  {
   "cell_type": "code",
   "execution_count": 1,
   "metadata": {},
   "outputs": [],
   "source": [
    "#  Python 3.x\n",
    "import operator as op\n",
    "\n",
    "import re\n",
    "import numpy as np\n",
    "import math\n",
    "import urllib.request\n",
    "\n",
    "from collections import Counter, defaultdict, namedtuple, deque\n",
    "from functools   import lru_cache\n",
    "from itertools   import permutations, combinations, chain, cycle, product, islice\n",
    "from heapq       import heappop, heappush\n",
    "\n",
    "def Input(day):\n",
    "    \"Open this day's input file.\"\n",
    "    filename = './input{}.txt'.format(day)\n",
    "    return open(filename)\n",
    "\n",
    "def transpose(matrix): return zip(*matrix)\n",
    "\n",
    "def first(iterable): return next(iter(iterable))\n",
    "\n",
    "def nth(iterable, n, default=None):\n",
    "    \"Returns the nth item of iterable, or a default value\"\n",
    "    return next(islice(iterable, n, None), default)\n",
    "\n",
    "cat = ''.join\n",
    "\n",
    "Ø   = frozenset() # Empty set\n",
    "inf = float('inf')\n",
    "BIG = 10 ** 999\n",
    "\n",
    "def grep(pattern, lines):\n",
    "    \"Print lines that match pattern.\"\n",
    "    for line in lines:\n",
    "        if re.search(pattern, line):\n",
    "            print(line)\n",
    "\n",
    "def groupby(iterable, key=lambda it: it):\n",
    "    \"Return a dic whose keys are key(it) and whose values are all the elements of iterable with that key.\"\n",
    "    dic = defaultdict(list)\n",
    "    for it in iterable:\n",
    "        dic[key(it)].append(it)\n",
    "    return dic\n",
    "\n",
    "def powerset(iterable):\n",
    "    \"Yield all subsets of items.\"\n",
    "    items = list(iterable)\n",
    "    for r in range(len(items)+1):\n",
    "        for c in combinations(items, r):\n",
    "            yield c\n",
    "\n",
    "# 2-D points implemented using (x, y) tuples\n",
    "def X(point): return point[0]\n",
    "def Y(point): return point[1]\n",
    "\n",
    "def neighbors4(point): \n",
    "    \"The four neighbors (without diagonals).\"\n",
    "    x, y = point\n",
    "    return ((x+1, y), (x-1, y), (x, y+1), (x, y-1))\n",
    "\n",
    "def neighbors8(point): \n",
    "    \"The eight neighbors (with diagonals).\"\n",
    "    x, y = point \n",
    "    return ((x+1, y), (x-1, y), (x, y+1), (x, y-1),\n",
    "            (x+1, y+1), (x-1, y-1), (x+1, y-1), (x-1, y+1))\n",
    "\n",
    "def cityblock_distance(p, q=(0, 0)): \n",
    "    \"City block distance between two points.\"\n",
    "    return abs(X(p) - X(q)) + abs(Y(p) - Y(q))\n",
    "\n",
    "def euclidean_distance(p, q=(0, 0)): \n",
    "    \"Euclidean (hypotenuse) distance between two points.\"\n",
    "    return math.hypot(X(p) - X(q), Y(p) - Y(q))\n",
    "\n",
    "def trace1(f):\n",
    "    \"Print a trace of the input and output of a function on one line.\"\n",
    "    def traced_f(*args):\n",
    "        result = f(*args)\n",
    "        print('{}({}) = {}'.format(f.__name__, ', '.join(map(str, args)), result))\n",
    "        return result\n",
    "    return traced_f\n",
    "\n",
    "def astar_search(start, h_func, moves_func):\n",
    "    \"Find a shortest sequence of states from start to a goal state (a state s with h_func(s) == 0).\"\n",
    "    frontier  = [(h_func(start), start)] # A priority queue, ordered by path length, f = g + h\n",
    "    previous  = {start: None}  # start state has no previous state; other states will\n",
    "    path_cost = {start: 0}     # The cost of the best path to a state.\n",
    "    while frontier:\n",
    "        (f, s) = heappop(frontier)\n",
    "        if h_func(s) == 0:\n",
    "            return Path(previous, s)\n",
    "        for s2 in moves_func(s):\n",
    "            new_cost = path_cost[s] + 1\n",
    "            if s2 not in path_cost or new_cost < path_cost[s2]:\n",
    "                heappush(frontier, (new_cost + h_func(s2), s2))\n",
    "                path_cost[s2] = new_cost\n",
    "                previous[s2] = s\n",
    "    return dict(fail=True, front=len(frontier), prev=len(previous))\n",
    "                \n",
    "def Path(previous, s): \n",
    "    \"Return a list of states that lead to state s, according to the previous dict.\"\n",
    "    return ([] if (s is None) else Path(previous, previous[s]) + [s])"
   ]
  },
  {
   "cell_type": "markdown",
   "metadata": {},
   "source": [
    "# [Day 1](https://adventofcode.com/2018/day/1)\n",
    "\n",
    "For example, if the device displays frequency changes of +1, -2, +3, +1, then starting from a frequency of zero, the following changes would occur:\n",
    "\n",
    "Current frequency  0, change of +1; resulting frequency  1.\n",
    "Current frequency  1, change of -2; resulting frequency -1.\n",
    "Current frequency -1, change of +3; resulting frequency  2.\n",
    "Current frequency  2, change of +1; resulting frequency  3.\n",
    "In this example, the resulting frequency is 3.\n",
    "\n",
    "Here are other example situations:\n",
    "\n",
    "+1, +1, +1 results in  3\n",
    "+1, +1, -2 results in  0\n",
    "-1, -2, -3 results in -6\n",
    "Starting with a frequency of zero, what is the resulting frequency after all of the changes in frequency have been applied?\n"
   ]
  },
  {
   "cell_type": "code",
   "execution_count": 15,
   "metadata": {},
   "outputs": [
    {
     "data": {
      "text/plain": [
       "590"
      ]
     },
     "execution_count": 15,
     "metadata": {},
     "output_type": "execute_result"
    }
   ],
   "source": [
    "def day1_pt1(in_):\n",
    "  return np.sum(list(map(int, in_)))\n",
    "\n",
    "day1_pt1(Input(1))"
   ]
  },
  {
   "cell_type": "markdown",
   "metadata": {},
   "source": [
    "## Part 2\n",
    "Here are other examples:\n",
    "\n",
    "* +1, -1 first reaches 0 twice.\n",
    "* +3, +3, +4, -2, -4 first reaches 10 twice.\n",
    "* -6, +3, +8, +5, -6 first reaches 5 twice.\n",
    "* +7, +7, -2, -7, -4 first reaches 14 twice.\n",
    "\n",
    "What is the first frequency your device reaches twice?"
   ]
  },
  {
   "cell_type": "code",
   "execution_count": 35,
   "metadata": {},
   "outputs": [
    {
     "data": {
      "text/plain": [
       "83445"
      ]
     },
     "execution_count": 35,
     "metadata": {},
     "output_type": "execute_result"
    }
   ],
   "source": [
    "def day1_pt2(in_):\n",
    "  xor_ = set()\n",
    "  sum_ = 0\n",
    "  for i in itertools.cycle(map(int, in_)):\n",
    "    xor_.add(sum_)\n",
    "    sum_ = sum_ + i\n",
    "    if sum_ in xor_:\n",
    "      return sum_\n",
    "\n",
    "day1_pt2(list(Input(1)))"
   ]
  },
  {
   "cell_type": "markdown",
   "metadata": {},
   "source": [
    "# [Day 2](https://adventofcode.com/2018/day/2)\n",
    "\n",
    "For example, if you see the following box IDs:\n",
    "\n",
    "* abcdef contains no letters that appear exactly two or three times.\n",
    "* bababc contains two a and three b, so it counts for both.\n",
    "* abbcde contains two b, but no letter appears exactly three times.\n",
    "* abcccd contains three c, but no letter appears exactly two times.\n",
    "* aabcdd contains two a and two d, but it only counts once.\n",
    "* abcdee contains two e.\n",
    "* ababab contains three a and three b, but it only counts once.\n",
    "\n",
    "Of these box IDs, four of them contain a letter which appears exactly twice, and three of them contain a letter which appears exactly three times. Multiplying these together produces a **checksum of 4 * 3 = 12.**\n",
    "\n",
    "What is the checksum for your list of box IDs?"
   ]
  },
  {
   "cell_type": "code",
   "execution_count": 8,
   "metadata": {},
   "outputs": [
    {
     "data": {
      "text/plain": [
       "6000"
      ]
     },
     "execution_count": 8,
     "metadata": {},
     "output_type": "execute_result"
    }
   ],
   "source": [
    "def day2_pt1(in_):\n",
    "  def count23(s):\n",
    "    counts = {v: k for k, v in Counter(s).items() if v in (2, 3)}\n",
    "    return (\n",
    "      counts.get(2, None) is not None, \n",
    "      counts.get(3, None) is not None)\n",
    "  \n",
    "  twos, threes = 0, 0\n",
    "  for c2, c3 in map(count23, in_):\n",
    "    twos += c2\n",
    "    threes += c3\n",
    "  return twos * threes\n",
    "\n",
    "day2_pt1(Input(2))"
   ]
  },
  {
   "cell_type": "code",
   "execution_count": 11,
   "metadata": {},
   "outputs": [
    {
     "data": {
      "text/plain": [
       "'pbykrmjmizwhxlqnasfgtycdv\\n'"
      ]
     },
     "execution_count": 11,
     "metadata": {},
     "output_type": "execute_result"
    }
   ],
   "source": [
    "def diff_letters(s1, s2):\n",
    "  diff = []\n",
    "  for i, (c1, c2) in enumerate(zip(s1, s2)):\n",
    "    if c1 != c2:\n",
    "      diff.append(i)\n",
    "    if len(diff) > 1:\n",
    "      break\n",
    "  return diff\n",
    "  \n",
    "def day2_pt2(in_):\n",
    "  for i in range(len(in_)):\n",
    "    for j in range(i + 1, len(in_)):\n",
    "      diffs = diff_letters(in_[i], in_[j])\n",
    "      if len(diffs) == 1:\n",
    "        diff = diffs[0]\n",
    "        return in_[i][:diff] + in_[i][diff+1:]\n",
    "\n",
    "day2_pt2(list(Input(2)))        "
   ]
  },
  {
   "cell_type": "markdown",
   "metadata": {},
   "source": [
    "# [Day 3](https://adventofcode.com/2018/day/3)\n"
   ]
  },
  {
   "cell_type": "code",
   "execution_count": 26,
   "metadata": {},
   "outputs": [
    {
     "data": {
      "text/plain": [
       "113576"
      ]
     },
     "execution_count": 26,
     "metadata": {},
     "output_type": "execute_result"
    }
   ],
   "source": [
    "def parse_coordinates(line):\n",
    "  # example: \"#1 @ 850,301: 23x12\"\n",
    "  line = line.strip()\n",
    "  \n",
    "  at = line.index(\"@\")\n",
    "  colon = line.index(':')\n",
    "  \n",
    "  x, y = map(int, line[at+1:colon].split(','))\n",
    "  w, h = map(int, line[colon+1:].split('x'))\n",
    "  return int(line[1:at]), (x, y), (w, h)\n",
    "  \n",
    "def day3_pt1(in_):\n",
    "  grid = np.zeros((1000, 1000), dtype=np.int32)\n",
    "  for i, (x, y), (w, h) in map(parse_coordinates, in_):\n",
    "    grid[x:x+w, y:y+h] += 1\n",
    "  return np.count_nonzero(grid > 1)\n",
    "\n",
    "day3_pt1(Input(3))"
   ]
  },
  {
   "cell_type": "code",
   "execution_count": 36,
   "metadata": {},
   "outputs": [
    {
     "data": {
      "text/plain": [
       "{825}"
      ]
     },
     "execution_count": 36,
     "metadata": {},
     "output_type": "execute_result"
    }
   ],
   "source": [
    "def day3_pt2(in_):\n",
    "  grid = np.zeros((1000, 1000), dtype=np.int32)\n",
    "  non_overlap = set()\n",
    "  for id_, (x, y), (w, h) in map(parse_coordinates, in_):\n",
    "    uniques = np.unique(grid[x:x+w, y:y+h])\n",
    "    if len(uniques) == 1 and uniques[0] == 0:\n",
    "      non_overlap.add(id_)\n",
    "    grid[x:x+w, y:y+h] = id_\n",
    "    non_overlap.difference_update(uniques)\n",
    "      \n",
    "  return non_overlap\n",
    "\n",
    "day3_pt2(Input(3))"
   ]
  },
  {
   "cell_type": "markdown",
   "metadata": {},
   "source": [
    "# [Day 4](https://adventofcode.com/2018/day/4)\n",
    "\n",
    "Using the format:\n",
    "```\n",
    "[1518-11-01 00:00] Guard #10 begins shift\n",
    "[1518-11-01 00:05] falls asleep\n",
    "[1518-11-01 00:25] wakes up\n",
    "[1518-11-01 00:30] falls asleep\n",
    "[1518-11-01 00:55] wakes up\n",
    "[1518-11-01 23:58] Guard #99 begins shift\n",
    "[1518-11-02 00:40] falls asleep\n",
    "[1518-11-02 00:50] wakes up\n",
    "[1518-11-03 00:05] Guard #10 begins shift\n",
    "[1518-11-03 00:24] falls asleep\n",
    "[1518-11-03 00:29] wakes up\n",
    "[1518-11-04 00:02] Guard #99 begins shift\n",
    "[1518-11-04 00:36] falls asleep\n",
    "[1518-11-04 00:46] wakes up\n",
    "[1518-11-05 00:03] Guard #99 begins shift\n",
    "[1518-11-05 00:45] falls asleep\n",
    "[1518-11-05 00:55] wakes up\n",
    "```\n",
    "\n",
    "Timestamps are written using `year-month-day hour:minute` format. The guard falling asleep or waking up is always the one whose shift most recently started. Because all asleep/awake times are during the midnight hour (00:00 - 00:59), **only the minute portion (00 - 59) is relevant** for those events.\n",
    "\n",
    "While this example listed the entries in chronological order, **your entries are in the order you found them. You'll need to organize them before they can be analyzed.**\n",
    "\n",
    "Strategy 1: Find the guard that has the most minutes asleep. What minute does that guard spend asleep the most?\n",
    "\n",
    "What is the ID of the guard you chose multiplied by the minute you chose? (In the above example, the answer would be 10 * 24 = 240.)"
   ]
  },
  {
   "cell_type": "code",
   "execution_count": 3,
   "metadata": {},
   "outputs": [],
   "source": [
    "in4 = list(Input(4))"
   ]
  },
  {
   "cell_type": "markdown",
   "metadata": {},
   "source": [
    "Note, the sorting could technically have been done without extraction, as date format is ISO8601."
   ]
  },
  {
   "cell_type": "code",
   "execution_count": 4,
   "metadata": {},
   "outputs": [
    {
     "data": {
      "text/plain": [
       "94040"
      ]
     },
     "execution_count": 4,
     "metadata": {},
     "output_type": "execute_result"
    }
   ],
   "source": [
    "Event = namedtuple('Event', 'year month day hour minute action guard')\n",
    "SWITCH, SLEEP, WAKE = -1, -2, -3\n",
    "\n",
    "\n",
    "def structure(line):\n",
    "  regex = r'\\[(\\d+)\\-(\\d+)\\-(\\d+) (\\d+):(\\d+)\\][^#]*#?(\\d*).*'\n",
    "  year, month, day, hour, minute, guard = map(\n",
    "    lambda x: int(x) if x else None, \n",
    "    re.match(regex, line).groups())\n",
    "  action = SWITCH if guard else SLEEP if 'sleep' in line else WAKE\n",
    "  return Event(year, month, day, hour, minute, action, guard)\n",
    "\n",
    "\n",
    "def day4_pt1(in_):\n",
    "  guards = defaultdict(lambda: np.array([0] * 60))\n",
    "  asleep_min = defaultdict(int)\n",
    "  on_duty = None\n",
    "  for event in sorted(map(structure, in_)):\n",
    "    if event.action == SWITCH:\n",
    "      on_duty = event.guard\n",
    "    elif event.action == SLEEP:\n",
    "      sleep_minute = event.minute\n",
    "    else:\n",
    "      guards[on_duty][sleep_minute:event.minute] += 1\n",
    "      asleep_min[on_duty] += (event.minute - sleep_minute)\n",
    "  \n",
    "  longest_asleep_id, _ = max(asleep_min.items(), key=lambda x: x[1])\n",
    "  return longest_asleep_id * np.argmax(guards[longest_asleep_id])\n",
    "\n",
    "day4_pt1(in4)"
   ]
  },
  {
   "cell_type": "code",
   "execution_count": 5,
   "metadata": {},
   "outputs": [
    {
     "data": {
      "text/plain": [
       "39940"
      ]
     },
     "execution_count": 5,
     "metadata": {},
     "output_type": "execute_result"
    }
   ],
   "source": [
    "def day4_pt2(in_):\n",
    "  guards = defaultdict(lambda: np.array([0] * 60))\n",
    "  on_duty = None\n",
    "  for event in sorted(map(structure, in_)):\n",
    "    if event.action == SWITCH:\n",
    "      on_duty = event.guard\n",
    "    elif event.action == SLEEP:\n",
    "      sleep_minute = event.minute\n",
    "    else:\n",
    "      guards[on_duty][sleep_minute:event.minute] += 1\n",
    "  \n",
    "  longest_asleep_id, _ = max(guards.items(), key=lambda x: max(x[1]))\n",
    "  return longest_asleep_id * np.argmax(guards[longest_asleep_id])\n",
    "\n",
    "day4_pt2(in4)"
   ]
  },
  {
   "cell_type": "markdown",
   "metadata": {},
   "source": [
    "# [Day5](https://adventofcode.com/2018/day/5)\n",
    "\n",
    "### For example:\n",
    "- In aA, a and A react, leaving nothing behind.\n",
    "- In abBA, bB destroys itself, leaving aA. As above, this then destroys itself, leaving nothing.\n",
    "- In abAB, no two adjacent units are of the same type, and so nothing happens.\n",
    "- In aabAAB, even though aa and AA are of the same type, their polarities match, and so nothing happens.\n",
    "\n",
    "Now, consider a larger example, dabAcCaCBAcCcaDA:\n",
    "\n",
    "```\n",
    "dabAcCaCBAcCcaDA  The first 'cC' is removed.\n",
    "dabAaCBAcCcaDA    This creates 'Aa', which is removed.\n",
    "dabCBAcCcaDA      Either 'cC' or 'Cc' are removed (the result is the same).\n",
    "dabCBAcaDA        No further actions can be taken.\n",
    "After all possible reactions, the resulting polymer contains 10 units.\n",
    "```\n",
    "\n",
    "How many units remain after fully reacting the polymer you scanned? "
   ]
  },
  {
   "cell_type": "code",
   "execution_count": 3,
   "metadata": {},
   "outputs": [],
   "source": [
    "in5 = Input(5).read().strip()"
   ]
  },
  {
   "cell_type": "code",
   "execution_count": 12,
   "metadata": {},
   "outputs": [
    {
     "data": {
      "text/plain": [
       "11590"
      ]
     },
     "execution_count": 12,
     "metadata": {},
     "output_type": "execute_result"
    }
   ],
   "source": [
    "def day5_pt1(s):\n",
    "  stack = ['']\n",
    "  for c in s:\n",
    "    same_letter = stack[-1].lower() == c.lower()\n",
    "    opposite_polarities = stack[-1] != c\n",
    "    if same_letter and opposite_polarities:\n",
    "      stack.pop()\n",
    "    else:\n",
    "      stack.append(c)\n",
    "      \n",
    "  return len(stack) - 1\n",
    "\n",
    "day5_pt1(in5)"
   ]
  },
  {
   "cell_type": "markdown",
   "metadata": {},
   "source": [
    "## Part 2\n",
    "\n",
    "One of the unit types is causing problems; it's preventing the polymer from collapsing as much as it should. Your goal is to figure out which unit type is causing the most problems, remove all instances of it (regardless of polarity), fully react the remaining polymer, and measure its length.\n",
    "\n",
    "For example, again using the polymer dabAcCaCBAcCcaDA from above:\n",
    "\n",
    "- Removing all A/a units produces dbcCCBcCcD. Fully reacting this polymer produces dbCBcD, which has length 6.\n",
    "- Removing all B/b units produces daAcCaCAcCcaDA. Fully reacting this polymer produces daCAcaDA, which has length 8.\n",
    "- Removing all C/c units produces dabAaBAaDA. Fully reacting this polymer produces daDA, which has length 4.\n",
    "- Removing all D/d units produces abAcCaCBAcCcaA. Fully reacting this polymer produces abCBAc, which has length 6.\n",
    "\n",
    "In this example, removing all C/c units was best, producing the answer 4.\n",
    "\n",
    "What is the length of the shortest polymer you can produce by removing all units of exactly one type and fully reacting the result?"
   ]
  },
  {
   "cell_type": "code",
   "execution_count": 34,
   "metadata": {},
   "outputs": [
    {
     "data": {
      "text/plain": [
       "(4504, 'N')"
      ]
     },
     "execution_count": 34,
     "metadata": {},
     "output_type": "execute_result"
    }
   ],
   "source": [
    "def day5_pt2(s):\n",
    "  all_chars = 'ABCDEFGHIJKLMNOPQRSTUVWXYZ'\n",
    "  replace_char = lambda c: s.replace(c, '').replace(c.lower(), '')\n",
    "  lengths = map(day5_pt1, map(replace_char, all_chars))\n",
    "  return min(zip(lengths, all_chars))\n",
    "\n",
    "day5_pt2(in5)"
   ]
  },
  {
   "cell_type": "markdown",
   "metadata": {},
   "source": [
    "# [Day 6](https://adventofcode.com/2018/day/6)\n",
    "\n",
    "```\n",
    "1, 1\n",
    "1, 6\n",
    "8, 3\n",
    "3, 4\n",
    "5, 5\n",
    "8, 9\n",
    "```\n",
    "\n",
    "If we name these coordinates A through F, we can draw them on a grid, putting 0,0 at the top left.\n",
    "Using the Manhattan distance, each location's closest coordinate can be determined, shown here in lowercase:\n",
    "\n",
    "```\n",
    "aaaaa.cccc\n",
    "aAaaa.cccc\n",
    "aaaddecccc\n",
    "aadddeccCc\n",
    "..dDdeeccc\n",
    "bb.deEeecc\n",
    "bBb.eeee..\n",
    "bbb.eeefff\n",
    "bbb.eeffff\n",
    "bbb.ffffFf\n",
    "```\n",
    "\n",
    "Locations shown as . are equally far from two or more coordinates, and so they don't count as being closest to any.\n",
    "\n",
    "\n",
    "In this example, the areas of coordinates A, B, C, and F are infinite - while not shown here, their areas extend forever outside the visible grid. However, the areas of coordinates D and E are finite: D is closest to 9 locations, and E is closest to 17 (both including the coordinate's location itself). Therefore, in this example, the size of the largest area is 17."
   ]
  },
  {
   "cell_type": "code",
   "execution_count": 2,
   "metadata": {},
   "outputs": [],
   "source": [
    "in6 = Input(6)"
   ]
  },
  {
   "cell_type": "code",
   "execution_count": 57,
   "metadata": {},
   "outputs": [
    {
     "data": {
      "text/plain": [
       "(7.0, 3909)"
      ]
     },
     "execution_count": 57,
     "metadata": {},
     "output_type": "execute_result"
    }
   ],
   "source": [
    "import itertools as it\n",
    "Pt = namedtuple('Pt', 'x y id_', defaults=(None,)*3)\n",
    "\n",
    "\n",
    "def manhattan(pt1, pt2):\n",
    "  return abs(pt1.x - pt2.x) + abs(pt1.y - pt2.y)\n",
    "\n",
    "\n",
    "def min_manhattan(pt, coords):\n",
    "  manhattans = np.array([manhattan(pt, c) for c in coords])\n",
    "  closest_i = np.where(manhattans == manhattans.min())[0]\n",
    "  return coords[closest_i[0]].id_ \\\n",
    "    if len(closest_i) == 1 \\\n",
    "    else -1\n",
    "\n",
    "\n",
    "def day6_pt1(in_):\n",
    "  f_xy = lambda l: map(int, l.split(','))\n",
    "  coords = [Pt(*f_xy(l), id_) for l, id_ in zip(in_, range(500))]\n",
    "  \n",
    "  xs = sorted(coords, key=lambda pt: pt.x)\n",
    "  ys = sorted(coords, key=lambda pt: pt.y)\n",
    "  \n",
    "  limits = (Pt(xs[0].x, ys[0].y), Pt(xs[-1].x, ys[-1].y))\n",
    "  grid = np.zeros((limits[1].y + 1, limits[1].x + 1))\n",
    "  \n",
    "  rx = range(limits[0].x, limits[1].x + 1)\n",
    "  ry = range(limits[0].y, limits[1].y + 1)\n",
    "  for (x, y) in it.product(rx, ry):\n",
    "    grid[y, x] = min_manhattan(Pt(x, y), coords)\n",
    "  \n",
    "  grid = grid[limits[0].y:limits[1].y, limits[0].x:limits[1].x]  \n",
    "  disallowed = set()\n",
    "  for i in (0, -1):\n",
    "    disallowed = disallowed.union(set(grid[i, :])).union(grid[:, i])\n",
    "  \n",
    "  return it.dropwhile(\n",
    "    lambda kv: kv[0] in disallowed, \n",
    "    Counter(grid.reshape((-1,))).most_common())\n",
    "\n",
    "next(day6_pt1(Input(6)))"
   ]
  },
  {
   "cell_type": "markdown",
   "metadata": {},
   "source": [
    "## Part 2\n",
    "\n",
    "For example, suppose you want the sum of the Manhattan distance to all of the coordinates to be less than 32. For each location, add up the distances to all of the given coordinates; if the total of those distances is less than 32, that location is within the desired region. Using the same coordinates as above, the resulting region looks like this:\n",
    "\n",
    "```\n",
    "..........\n",
    ".A........\n",
    "..........\n",
    "...###..C.\n",
    "..#D###...\n",
    "..###E#...\n",
    ".B.###....\n",
    "..........\n",
    "..........\n",
    "........F.\n",
    "```\n",
    "\n",
    "\n",
    "What is the size of **the region** containing all locations which have a total distance to all given coordinates of less than 10000?"
   ]
  },
  {
   "cell_type": "code",
   "execution_count": 67,
   "metadata": {},
   "outputs": [
    {
     "data": {
      "text/plain": [
       "36238"
      ]
     },
     "execution_count": 67,
     "metadata": {},
     "output_type": "execute_result"
    }
   ],
   "source": [
    "def sum_manhattan(pt, coords):\n",
    "  return np.sum([manhattan(pt, c) for c in coords])\n",
    "  \n",
    "\n",
    "def day6_pt2(in_):\n",
    "  f_xy = lambda l: map(int, l.split(','))\n",
    "  coords = [Pt(*f_xy(l), id_) for l, id_ in zip(in_, range(500))]\n",
    "  \n",
    "  xs = sorted(coords, key=lambda pt: pt.x)\n",
    "  ys = sorted(coords, key=lambda pt: pt.y)\n",
    "  \n",
    "  limits = (Pt(xs[0].x, ys[0].y), Pt(xs[-1].x, ys[-1].y))\n",
    "  grid = np.zeros((limits[1].y + 1, limits[1].x + 1))\n",
    "  \n",
    "  rx = range(limits[0].x, limits[1].x + 1)\n",
    "  ry = range(limits[0].y, limits[1].y + 1)\n",
    "  sum_limit = 10000\n",
    " \n",
    "  # note: there is only one such region\n",
    "  return np.sum([\n",
    "    sum_manhattan(Pt(x, y), coords) < sum_limit \n",
    "    for (x, y) in it.product(rx, ry)])\n",
    "  \n",
    "  \n",
    "day6_pt2(Input(6))"
   ]
  },
  {
   "cell_type": "markdown",
   "metadata": {},
   "source": [
    "# [Day 7](https://adventofcode.com/2018/day/7)\n",
    "\n",
    "```\n",
    "Step C must be finished before step A can begin.\n",
    "Step C must be finished before step F can begin.\n",
    "Step A must be finished before step B can begin.\n",
    "Step A must be finished before step D can begin.\n",
    "Step B must be finished before step E can begin.\n",
    "Step D must be finished before step E can begin.\n",
    "Step F must be finished before step E can begin.\n",
    "```\n",
    "\n",
    "```\n",
    "  -->A--->B--\n",
    " /    \\      \\\n",
    "C      -->D----->E\n",
    " \\           /\n",
    "  ---->F-----\n",
    "```\n",
    "\n",
    "Your first goal is to determine the order in which the steps should be completed. If more than one step is ready, choose the step which is first alphabetically. In this example, the steps would be completed as follows:\n",
    "\n",
    "- Only C is available, and so it is done first.\n",
    "- Next, both A and F are available. A is first alphabetically, so it is done next.\n",
    "- Then, even though F was available earlier, steps B and D are now also available, and B is the first alphabetically of the three.\n",
    "- After that, only D and F are available. E is not available because only some of its prerequisites are complete. Therefore, D is completed next.\n",
    "- F is the only choice, so it is done next.\n",
    "- Finally, E is completed.\n",
    "\n",
    "So, in this example, the correct order is CABDFE."
   ]
  },
  {
   "cell_type": "code",
   "execution_count": 3,
   "metadata": {},
   "outputs": [
    {
     "data": {
      "text/plain": [
       "'BHMOTUFLCPQKWINZVRXAJDSYEG'"
      ]
     },
     "execution_count": 3,
     "metadata": {},
     "output_type": "execute_result"
    }
   ],
   "source": [
    "import heapq\n",
    "\n",
    "def getdep(str_):\n",
    "  return re.match(r'Step (.) .* step (.)', str_).groups()\n",
    "\n",
    "def day7_pt1(in_):\n",
    "  deps = defaultdict(list)\n",
    "  invdeps = defaultdict(set)\n",
    "  for b, a in map(getdep, in_):\n",
    "    deps[b].append(a)\n",
    "    invdeps[a].add(b)\n",
    "  \n",
    "  queue = list(set(deps.keys()).difference(set(invdeps.keys())))\n",
    "  heapq.heapify(queue)\n",
    "  while len(queue) > 0:\n",
    "    top = heapq.heappop(queue)\n",
    "    for child in deps.get(top, []):\n",
    "      invdeps[child].remove(top)\n",
    "      if len(invdeps[child]) == 0:\n",
    "        heapq.heappush(queue, child)\n",
    "      \n",
    "    yield top\n",
    "  \n",
    "\n",
    "''.join(list(day7_pt1(Input(7))))"
   ]
  },
  {
   "cell_type": "markdown",
   "metadata": {},
   "source": [
    "## Part 2\n",
    "\n",
    "If multiple steps are available, workers should still begin them in alphabetical order.\n",
    "\n",
    "Each step takes 60 seconds plus an amount corresponding to its letter: A=1, B=2, C=3, and so on. So, step A takes 60+1=61 seconds, while step Z takes 60+26=86 seconds. No time is required between steps.\n",
    "\n",
    "To simplify things for the example, however, suppose you only have help from one Elf (a total of two workers) and that each step takes 60 fewer seconds (so that step A takes 1 second and step Z takes 26 seconds). Then, using the same instructions as above, this is how each second would be spent:\n",
    "\n"
   ]
  },
  {
   "cell_type": "code",
   "execution_count": 5,
   "metadata": {},
   "outputs": [
    {
     "data": {
      "text/plain": [
       "877"
      ]
     },
     "execution_count": 5,
     "metadata": {},
     "output_type": "execute_result"
    }
   ],
   "source": [
    "def task_duration(char_):\n",
    "  return ord(char_) - ord('A') + 1 + 60\n",
    "\n",
    "def day7_pt2(in_, n_elves=5):\n",
    "  deps = defaultdict(list)\n",
    "  invdeps = defaultdict(set)\n",
    "  for b, a in map(getdep, in_):\n",
    "    deps[b].append(a)\n",
    "    invdeps[a].add(b)\n",
    "  \n",
    "  n_tasks = len(set(deps.keys()).union(invdeps.keys()))\n",
    "  done_tasks = set()\n",
    "  elves_free = set(range(n_elves))\n",
    "  elves_working = dict()\n",
    "  queue = list(set(deps.keys()).difference(set(invdeps.keys())))\n",
    "  heapq.heapify(queue)\n",
    "  \n",
    "  for t in range((n_tasks) * task_duration('Z')):\n",
    "    # earlier error was in putting `if len(done_tasks) ...` here\n",
    "    for elf, (task, duration) in list(elves_working.items()):\n",
    "      if duration == 1:\n",
    "        elves_free.add(elf)\n",
    "        done_tasks.add(task)\n",
    "        del elves_working[elf]\n",
    "      else:\n",
    "        elves_working[elf] = (task, duration - 1)\n",
    "    \n",
    "    if len(done_tasks) == n_tasks:\n",
    "      return t\n",
    "    \n",
    "    new_queue = []\n",
    "    while len(elves_free) > 0 and len(queue) > 0:\n",
    "      top = heapq.heappop(queue)\n",
    "      if not len(invdeps.get(top, set()).difference(done_tasks)) == 0:\n",
    "        heapq.heappush(new_queue, top)\n",
    "        continue\n",
    "        \n",
    "      elves_working[elves_free.pop()] = (top, task_duration(top))\n",
    "      \n",
    "      for child in deps.get(top, []):\n",
    "        if child not in queue and child not in new_queue:\n",
    "          heapq.heappush(new_queue, child)\n",
    "    queue = list(heapq.merge(queue, new_queue))\n",
    "\n",
    "\n",
    "day7_pt2(Input(7))"
   ]
  },
  {
   "cell_type": "markdown",
   "metadata": {},
   "source": [
    "# Day 8\n",
    "The tree is made up of nodes; a single, outermost node forms the tree's root, and it contains all other nodes in the tree (or contains nodes that contain nodes, and so on).\n",
    "\n",
    "Specifically, a node consists of:\n",
    "\n",
    "A header, which is always exactly two numbers:\n",
    "The quantity of child nodes.\n",
    "The quantity of metadata entries.\n",
    "Zero or more child nodes (as specified in the header).\n",
    "One or more metadata entries (as specified in the header).\n",
    "Each child node is itself a node that has its own header, child nodes, and metadata. For example:\n",
    "\n",
    "```\n",
    "2 3 0 3 10 11 12 1 1 0 1 99 2 1 1 2\n",
    "A----------------------------------\n",
    "    B----------- C-----------\n",
    "                     D-----\n",
    "```\n",
    "\n",
    "In this example, each node of the tree is also marked with an underline starting with a letter for easier identification. In it, there are four nodes:\n",
    "\n",
    "- A, which has 2 child nodes (B, C) and 3 metadata entries (1, 1, 2).\n",
    "- B, which has 0 child nodes and 3 metadata entries (10, 11, 12).\n",
    "- C, which has 1 child node (D) and 1 metadata entry (2).\n",
    "- D, which has 0 child nodes and 1 metadata entry (99).\n",
    "\n",
    "The first check done on the license file is to simply add up all of the metadata entries. In this example, that sum is `1+1+2+10+11+12+2+99=138`.\n",
    "\n",
    "What is the sum of all metadata entries?"
   ]
  },
  {
   "cell_type": "code",
   "execution_count": 8,
   "metadata": {},
   "outputs": [],
   "source": [
    "in8 = [int(x) for x in Input(8).read().split()]"
   ]
  },
  {
   "cell_type": "code",
   "execution_count": 60,
   "metadata": {},
   "outputs": [
    {
     "data": {
      "text/plain": [
       "46829"
      ]
     },
     "execution_count": 60,
     "metadata": {},
     "output_type": "execute_result"
    }
   ],
   "source": [
    "def day8_pt1(in_):\n",
    "  i = 0\n",
    "  nchilds, nmetas, metas = [], [], []\n",
    "  \n",
    "  while i < len(in_):\n",
    "    nchilds.append(in_[i])\n",
    "    nmetas.append(in_[i + 1])\n",
    "    i = i + 2\n",
    "    \n",
    "    while nchilds[-1] == 0:\n",
    "      nmeta = nmetas.pop()\n",
    "      metas.extend(in_[i:i + nmeta])\n",
    "      i = i + nmeta\n",
    "      \n",
    "      nchilds.pop()\n",
    "      if len(nchilds) == 0:\n",
    "        break\n",
    "\n",
    "      nchilds[-1] = nchilds[-1] - 1\n",
    "  \n",
    "  return np.sum(np.sum(metas))\n",
    "\n",
    "day8_pt1(in8)"
   ]
  },
  {
   "cell_type": "markdown",
   "metadata": {},
   "source": [
    "## Part 2"
   ]
  },
  {
   "cell_type": "code",
   "execution_count": 92,
   "metadata": {},
   "outputs": [
    {
     "data": {
      "text/plain": [
       "37450"
      ]
     },
     "execution_count": 92,
     "metadata": {},
     "output_type": "execute_result"
    }
   ],
   "source": [
    "class Node:\n",
    "  def __init__(self):\n",
    "    self.children = []\n",
    "    self.metadata = []\n",
    "    \n",
    "  def get(self, nchild):\n",
    "    return self.children[nchild-1]\\\n",
    "      if 0 < nchild <= len(self.children)\\\n",
    "      else None\n",
    "  \n",
    "  def value(self):\n",
    "    if len(self.children) == 0:\n",
    "      return np.sum(self.metadata)\n",
    "    return np.sum([\n",
    "      n.value() for n in [self.get(i) for i in self.metadata]\n",
    "      if n is not None])\n",
    "\n",
    "  \n",
    "def day8_pt2(in_):  \n",
    "  nchilds, nmetas, metas = [], [], []\n",
    "  nodes = [Node()]\n",
    "  i = 0\n",
    "  \n",
    "  while i < len(in_):\n",
    "    node = Node(id)\n",
    "    nodes.append(node)\n",
    "    nchilds.append(in_[i])\n",
    "    nmetas.append(in_[i + 1])\n",
    "    i = i + 2\n",
    "    \n",
    "    while nchilds[-1] == 0:\n",
    "      nmeta = nmetas.pop()\n",
    "      node = nodes.pop()\n",
    "      \n",
    "      node.metadata.extend(in_[i:i + nmeta])\n",
    "      i = i + nmeta\n",
    "      nodes[-1].children.append(node)\n",
    "      \n",
    "      nchilds.pop()\n",
    "      if len(nchilds) == 0:\n",
    "        break\n",
    "\n",
    "      nchilds[-1] = nchilds[-1] - 1\n",
    "      \n",
    "  guard = nodes.pop()\n",
    "  return guard.children[0].value()\n",
    "\n",
    "day8_pt2(in8)"
   ]
  },
  {
   "cell_type": "markdown",
   "metadata": {},
   "source": [
    "## Day9\n",
    "\n",
    "Elves are playing a game placing marbles:\n",
    "\n",
    "First, the marble numbered 0 is placed in the circle. At this point, while it contains only a single marble, it is still a circle: the marble is both clockwise from itself and counter-clockwise from itself. This marble is designated the current marble.\n",
    "\n",
    "Then, each Elf takes a turn placing the lowest-numbered remaining marble into the circle between the marbles that are 1 and 2 marbles clockwise of the current marble. (When the circle is large enough, this means that there is one marble between the marble that was just placed and the current marble.) The marble that was just placed then becomes the current marble.\n",
    "\n",
    "However, if the marble that is about to be placed has a number which is a multiple of 23, something entirely different happens. First, the current player keeps the marble they would have placed, adding it to their score. In addition, the marble 7 marbles counter-clockwise from the current marble is removed from the circle and also added to the current player's score. The marble located immediately clockwise of the marble that was removed becomes the new current marble.\n",
    "\n",
    "You have to determine what is the winning player's score.\n"
   ]
  },
  {
   "cell_type": "code",
   "execution_count": 117,
   "metadata": {},
   "outputs": [
    {
     "data": {
      "text/plain": [
       "436720.0"
      ]
     },
     "execution_count": 117,
     "metadata": {},
     "output_type": "execute_result"
    }
   ],
   "source": [
    "def day9_pt1(nplayers=416, last=71617):\n",
    "  scores = np.zeros((nplayers,))\n",
    "  marbles = [0, 2, 1]\n",
    "  current_index = 1\n",
    "  player = 0\n",
    "  for marble in range(3, last + 1):    \n",
    "    if marble % 23 == 0:\n",
    "      scores[player] += marble\n",
    "      current_index -= 7\n",
    "      scores[player] += marbles.pop(current_index)\n",
    "    else:\n",
    "      current_index = (current_index + 2) % len(marbles)\n",
    "      marbles.insert(current_index, marble)\n",
    "      \n",
    "    player = (player + 1) % len(scores)\n",
    "  return np.max(scores)\n",
    "\n",
    "day9_pt1()"
   ]
  },
  {
   "cell_type": "markdown",
   "metadata": {},
   "source": [
    "## Part 2\n",
    "Larger value, use deque for efficient addition/removal."
   ]
  },
  {
   "cell_type": "code",
   "execution_count": 158,
   "metadata": {},
   "outputs": [
    {
     "data": {
      "text/plain": [
       "3527845091"
      ]
     },
     "execution_count": 158,
     "metadata": {},
     "output_type": "execute_result"
    }
   ],
   "source": [
    "def day9_pt2(nplayers=416, last=7161700):\n",
    "  scores = defaultdict(int)\n",
    "  marbles = deque([0])\n",
    "  current_index = 1\n",
    "  player = 0\n",
    "  for marble in range(1, last + 1):\n",
    "    if marble % 23 == 0:\n",
    "      marbles.rotate(7)\n",
    "      scores[player] += marble\n",
    "      scores[player] += marbles.pop()\n",
    "      marbles.rotate(-1)\n",
    "    else:\n",
    "      marbles.rotate(-1)\n",
    "      marbles.append(marble)  \n",
    "    player = (player + 1) % nplayers\n",
    "    \n",
    "  return np.max(list(scores.values()))\n",
    "\n",
    "day9_pt2()"
   ]
  }
 ],
 "metadata": {
  "kernelspec": {
   "display_name": "Python 3",
   "language": "python",
   "name": "python3"
  },
  "language_info": {
   "codemirror_mode": {
    "name": "ipython",
    "version": 3
   },
   "file_extension": ".py",
   "mimetype": "text/x-python",
   "name": "python",
   "nbconvert_exporter": "python",
   "pygments_lexer": "ipython3",
   "version": "3.7.1"
  }
 },
 "nbformat": 4,
 "nbformat_minor": 2
}
