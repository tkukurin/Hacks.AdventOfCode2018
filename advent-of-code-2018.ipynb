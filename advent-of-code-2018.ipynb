{
 "cells": [
  {
   "cell_type": "markdown",
   "metadata": {},
   "source": [
    "[Norvig's setup code](https://github.com/norvig/pytudes/blob/master/ipynb/Advent%20of%20Code.ipynb)"
   ]
  },
  {
   "cell_type": "code",
   "execution_count": 1,
   "metadata": {},
   "outputs": [],
   "source": [
    "#  Python 3.x\n",
    "import re\n",
    "import numpy as np\n",
    "import math\n",
    "import urllib.request\n",
    "\n",
    "from collections import Counter, defaultdict, namedtuple, deque\n",
    "from functools   import lru_cache\n",
    "from itertools   import permutations, combinations, chain, cycle, product, islice\n",
    "from heapq       import heappop, heappush\n",
    "\n",
    "def Input(day):\n",
    "    \"Open this day's input file.\"\n",
    "    filename = './input{}.txt'.format(day)\n",
    "    return open(filename)\n",
    "\n",
    "def transpose(matrix): return zip(*matrix)\n",
    "\n",
    "def first(iterable): return next(iter(iterable))\n",
    "\n",
    "def nth(iterable, n, default=None):\n",
    "    \"Returns the nth item of iterable, or a default value\"\n",
    "    return next(islice(iterable, n, None), default)\n",
    "\n",
    "cat = ''.join\n",
    "\n",
    "Ø   = frozenset() # Empty set\n",
    "inf = float('inf')\n",
    "BIG = 10 ** 999\n",
    "\n",
    "def grep(pattern, lines):\n",
    "    \"Print lines that match pattern.\"\n",
    "    for line in lines:\n",
    "        if re.search(pattern, line):\n",
    "            print(line)\n",
    "\n",
    "def groupby(iterable, key=lambda it: it):\n",
    "    \"Return a dic whose keys are key(it) and whose values are all the elements of iterable with that key.\"\n",
    "    dic = defaultdict(list)\n",
    "    for it in iterable:\n",
    "        dic[key(it)].append(it)\n",
    "    return dic\n",
    "\n",
    "def powerset(iterable):\n",
    "    \"Yield all subsets of items.\"\n",
    "    items = list(iterable)\n",
    "    for r in range(len(items)+1):\n",
    "        for c in combinations(items, r):\n",
    "            yield c\n",
    "\n",
    "# 2-D points implemented using (x, y) tuples\n",
    "def X(point): return point[0]\n",
    "def Y(point): return point[1]\n",
    "\n",
    "def neighbors4(point): \n",
    "    \"The four neighbors (without diagonals).\"\n",
    "    x, y = point\n",
    "    return ((x+1, y), (x-1, y), (x, y+1), (x, y-1))\n",
    "\n",
    "def neighbors8(point): \n",
    "    \"The eight neighbors (with diagonals).\"\n",
    "    x, y = point \n",
    "    return ((x+1, y), (x-1, y), (x, y+1), (x, y-1),\n",
    "            (x+1, y+1), (x-1, y-1), (x+1, y-1), (x-1, y+1))\n",
    "\n",
    "def cityblock_distance(p, q=(0, 0)): \n",
    "    \"City block distance between two points.\"\n",
    "    return abs(X(p) - X(q)) + abs(Y(p) - Y(q))\n",
    "\n",
    "def euclidean_distance(p, q=(0, 0)): \n",
    "    \"Euclidean (hypotenuse) distance between two points.\"\n",
    "    return math.hypot(X(p) - X(q), Y(p) - Y(q))\n",
    "\n",
    "def trace1(f):\n",
    "    \"Print a trace of the input and output of a function on one line.\"\n",
    "    def traced_f(*args):\n",
    "        result = f(*args)\n",
    "        print('{}({}) = {}'.format(f.__name__, ', '.join(map(str, args)), result))\n",
    "        return result\n",
    "    return traced_f\n",
    "\n",
    "def astar_search(start, h_func, moves_func):\n",
    "    \"Find a shortest sequence of states from start to a goal state (a state s with h_func(s) == 0).\"\n",
    "    frontier  = [(h_func(start), start)] # A priority queue, ordered by path length, f = g + h\n",
    "    previous  = {start: None}  # start state has no previous state; other states will\n",
    "    path_cost = {start: 0}     # The cost of the best path to a state.\n",
    "    while frontier:\n",
    "        (f, s) = heappop(frontier)\n",
    "        if h_func(s) == 0:\n",
    "            return Path(previous, s)\n",
    "        for s2 in moves_func(s):\n",
    "            new_cost = path_cost[s] + 1\n",
    "            if s2 not in path_cost or new_cost < path_cost[s2]:\n",
    "                heappush(frontier, (new_cost + h_func(s2), s2))\n",
    "                path_cost[s2] = new_cost\n",
    "                previous[s2] = s\n",
    "    return dict(fail=True, front=len(frontier), prev=len(previous))\n",
    "                \n",
    "def Path(previous, s): \n",
    "    \"Return a list of states that lead to state s, according to the previous dict.\"\n",
    "    return ([] if (s is None) else Path(previous, previous[s]) + [s])"
   ]
  },
  {
   "cell_type": "markdown",
   "metadata": {},
   "source": [
    "# [Day 1](https://adventofcode.com/2018/day/1)\n",
    "\n",
    "For example, if the device displays frequency changes of +1, -2, +3, +1, then starting from a frequency of zero, the following changes would occur:\n",
    "\n",
    "Current frequency  0, change of +1; resulting frequency  1.\n",
    "Current frequency  1, change of -2; resulting frequency -1.\n",
    "Current frequency -1, change of +3; resulting frequency  2.\n",
    "Current frequency  2, change of +1; resulting frequency  3.\n",
    "In this example, the resulting frequency is 3.\n",
    "\n",
    "Here are other example situations:\n",
    "\n",
    "+1, +1, +1 results in  3\n",
    "+1, +1, -2 results in  0\n",
    "-1, -2, -3 results in -6\n",
    "Starting with a frequency of zero, what is the resulting frequency after all of the changes in frequency have been applied?\n"
   ]
  },
  {
   "cell_type": "code",
   "execution_count": 15,
   "metadata": {},
   "outputs": [
    {
     "data": {
      "text/plain": [
       "590"
      ]
     },
     "execution_count": 15,
     "metadata": {},
     "output_type": "execute_result"
    }
   ],
   "source": [
    "def day1_pt1(in_):\n",
    "  return np.sum(list(map(int, in_)))\n",
    "\n",
    "day1_pt1(Input(1))"
   ]
  },
  {
   "cell_type": "markdown",
   "metadata": {},
   "source": [
    "## Part 2\n",
    "Here are other examples:\n",
    "\n",
    "* +1, -1 first reaches 0 twice.\n",
    "* +3, +3, +4, -2, -4 first reaches 10 twice.\n",
    "* -6, +3, +8, +5, -6 first reaches 5 twice.\n",
    "* +7, +7, -2, -7, -4 first reaches 14 twice.\n",
    "\n",
    "What is the first frequency your device reaches twice?"
   ]
  },
  {
   "cell_type": "code",
   "execution_count": 35,
   "metadata": {},
   "outputs": [
    {
     "data": {
      "text/plain": [
       "83445"
      ]
     },
     "execution_count": 35,
     "metadata": {},
     "output_type": "execute_result"
    }
   ],
   "source": [
    "def day1_pt2(in_):\n",
    "  xor_ = set()\n",
    "  sum_ = 0\n",
    "  for i in itertools.cycle(map(int, in_)):\n",
    "    xor_.add(sum_)\n",
    "    sum_ = sum_ + i\n",
    "    if sum_ in xor_:\n",
    "      return sum_\n",
    "\n",
    "day1_pt2(list(Input(1)))"
   ]
  },
  {
   "cell_type": "markdown",
   "metadata": {},
   "source": [
    "# [Day 2](https://adventofcode.com/2018/day/2)\n",
    "\n",
    "For example, if you see the following box IDs:\n",
    "\n",
    "* abcdef contains no letters that appear exactly two or three times.\n",
    "* bababc contains two a and three b, so it counts for both.\n",
    "* abbcde contains two b, but no letter appears exactly three times.\n",
    "* abcccd contains three c, but no letter appears exactly two times.\n",
    "* aabcdd contains two a and two d, but it only counts once.\n",
    "* abcdee contains two e.\n",
    "* ababab contains three a and three b, but it only counts once.\n",
    "\n",
    "Of these box IDs, four of them contain a letter which appears exactly twice, and three of them contain a letter which appears exactly three times. Multiplying these together produces a **checksum of 4 * 3 = 12.**\n",
    "\n",
    "What is the checksum for your list of box IDs?"
   ]
  },
  {
   "cell_type": "code",
   "execution_count": 8,
   "metadata": {},
   "outputs": [
    {
     "data": {
      "text/plain": [
       "6000"
      ]
     },
     "execution_count": 8,
     "metadata": {},
     "output_type": "execute_result"
    }
   ],
   "source": [
    "def day2_pt1(in_):\n",
    "  def count23(s):\n",
    "    counts = {v: k for k, v in Counter(s).items() if v in (2, 3)}\n",
    "    return (\n",
    "      counts.get(2, None) is not None, \n",
    "      counts.get(3, None) is not None)\n",
    "  \n",
    "  twos, threes = 0, 0\n",
    "  for c2, c3 in map(count23, in_):\n",
    "    twos += c2\n",
    "    threes += c3\n",
    "  return twos * threes\n",
    "\n",
    "day2_pt1(Input(2))"
   ]
  },
  {
   "cell_type": "code",
   "execution_count": 11,
   "metadata": {},
   "outputs": [
    {
     "data": {
      "text/plain": [
       "'pbykrmjmizwhxlqnasfgtycdv\\n'"
      ]
     },
     "execution_count": 11,
     "metadata": {},
     "output_type": "execute_result"
    }
   ],
   "source": [
    "def diff_letters(s1, s2):\n",
    "  diff = []\n",
    "  for i, (c1, c2) in enumerate(zip(s1, s2)):\n",
    "    if c1 != c2:\n",
    "      diff.append(i)\n",
    "    if len(diff) > 1:\n",
    "      break\n",
    "  return diff\n",
    "  \n",
    "def day2_pt2(in_):\n",
    "  for i in range(len(in_)):\n",
    "    for j in range(i + 1, len(in_)):\n",
    "      diffs = diff_letters(in_[i], in_[j])\n",
    "      if len(diffs) == 1:\n",
    "        diff = diffs[0]\n",
    "        return in_[i][:diff] + in_[i][diff+1:]\n",
    "\n",
    "day2_pt2(list(Input(2)))        "
   ]
  },
  {
   "cell_type": "markdown",
   "metadata": {},
   "source": [
    "# [Day 3](https://adventofcode.com/2018/day/3)\n"
   ]
  },
  {
   "cell_type": "code",
   "execution_count": 26,
   "metadata": {},
   "outputs": [
    {
     "data": {
      "text/plain": [
       "113576"
      ]
     },
     "execution_count": 26,
     "metadata": {},
     "output_type": "execute_result"
    }
   ],
   "source": [
    "def parse_coordinates(line):\n",
    "  # example: \"#1 @ 850,301: 23x12\"\n",
    "  line = line.strip()\n",
    "  \n",
    "  at = line.index(\"@\")\n",
    "  colon = line.index(':')\n",
    "  \n",
    "  x, y = map(int, line[at+1:colon].split(','))\n",
    "  w, h = map(int, line[colon+1:].split('x'))\n",
    "  return int(line[1:at]), (x, y), (w, h)\n",
    "  \n",
    "def day3_pt1(in_):\n",
    "  grid = np.zeros((1000, 1000), dtype=np.int32)\n",
    "  for i, (x, y), (w, h) in map(parse_coordinates, in_):\n",
    "    grid[x:x+w, y:y+h] += 1\n",
    "  return np.count_nonzero(grid > 1)\n",
    "\n",
    "day3_pt1(Input(3))"
   ]
  },
  {
   "cell_type": "code",
   "execution_count": 36,
   "metadata": {},
   "outputs": [
    {
     "data": {
      "text/plain": [
       "{825}"
      ]
     },
     "execution_count": 36,
     "metadata": {},
     "output_type": "execute_result"
    }
   ],
   "source": [
    "def day3_pt2(in_):\n",
    "  grid = np.zeros((1000, 1000), dtype=np.int32)\n",
    "  non_overlap = set()\n",
    "  for id_, (x, y), (w, h) in map(parse_coordinates, in_):\n",
    "    uniques = np.unique(grid[x:x+w, y:y+h])\n",
    "    if len(uniques) == 1 and uniques[0] == 0:\n",
    "      non_overlap.add(id_)\n",
    "    grid[x:x+w, y:y+h] = id_\n",
    "    non_overlap.difference_update(uniques)\n",
    "      \n",
    "  return non_overlap\n",
    "\n",
    "day3_pt2(Input(3))"
   ]
  },
  {
   "cell_type": "markdown",
   "metadata": {},
   "source": [
    "# [Day 4](https://adventofcode.com/2018/day/4)\n",
    "\n",
    "Using the format:\n",
    "```\n",
    "[1518-11-01 00:00] Guard #10 begins shift\n",
    "[1518-11-01 00:05] falls asleep\n",
    "[1518-11-01 00:25] wakes up\n",
    "[1518-11-01 00:30] falls asleep\n",
    "[1518-11-01 00:55] wakes up\n",
    "[1518-11-01 23:58] Guard #99 begins shift\n",
    "[1518-11-02 00:40] falls asleep\n",
    "[1518-11-02 00:50] wakes up\n",
    "[1518-11-03 00:05] Guard #10 begins shift\n",
    "[1518-11-03 00:24] falls asleep\n",
    "[1518-11-03 00:29] wakes up\n",
    "[1518-11-04 00:02] Guard #99 begins shift\n",
    "[1518-11-04 00:36] falls asleep\n",
    "[1518-11-04 00:46] wakes up\n",
    "[1518-11-05 00:03] Guard #99 begins shift\n",
    "[1518-11-05 00:45] falls asleep\n",
    "[1518-11-05 00:55] wakes up\n",
    "```\n",
    "\n",
    "Timestamps are written using `year-month-day hour:minute` format. The guard falling asleep or waking up is always the one whose shift most recently started. Because all asleep/awake times are during the midnight hour (00:00 - 00:59), **only the minute portion (00 - 59) is relevant** for those events.\n",
    "\n",
    "While this example listed the entries in chronological order, **your entries are in the order you found them. You'll need to organize them before they can be analyzed.**\n",
    "\n",
    "Strategy 1: Find the guard that has the most minutes asleep. What minute does that guard spend asleep the most?\n",
    "\n",
    "What is the ID of the guard you chose multiplied by the minute you chose? (In the above example, the answer would be 10 * 24 = 240.)"
   ]
  },
  {
   "cell_type": "code",
   "execution_count": 3,
   "metadata": {},
   "outputs": [],
   "source": [
    "in4 = list(Input(4))"
   ]
  },
  {
   "cell_type": "markdown",
   "metadata": {},
   "source": [
    "Note, the sorting could technically have been done without extraction, as date format is ISO8601."
   ]
  },
  {
   "cell_type": "code",
   "execution_count": 4,
   "metadata": {},
   "outputs": [
    {
     "data": {
      "text/plain": [
       "94040"
      ]
     },
     "execution_count": 4,
     "metadata": {},
     "output_type": "execute_result"
    }
   ],
   "source": [
    "Event = namedtuple('Event', 'year month day hour minute action guard')\n",
    "SWITCH, SLEEP, WAKE = -1, -2, -3\n",
    "\n",
    "\n",
    "def structure(line):\n",
    "  regex = r'\\[(\\d+)\\-(\\d+)\\-(\\d+) (\\d+):(\\d+)\\][^#]*#?(\\d*).*'\n",
    "  year, month, day, hour, minute, guard = map(\n",
    "    lambda x: int(x) if x else None, \n",
    "    re.match(regex, line).groups())\n",
    "  action = SWITCH if guard else SLEEP if 'sleep' in line else WAKE\n",
    "  return Event(year, month, day, hour, minute, action, guard)\n",
    "\n",
    "\n",
    "def day4_pt1(in_):\n",
    "  guards = defaultdict(lambda: np.array([0] * 60))\n",
    "  asleep_min = defaultdict(int)\n",
    "  on_duty = None\n",
    "  for event in sorted(map(structure, in_)):\n",
    "    if event.action == SWITCH:\n",
    "      on_duty = event.guard\n",
    "    elif event.action == SLEEP:\n",
    "      sleep_minute = event.minute\n",
    "    else:\n",
    "      guards[on_duty][sleep_minute:event.minute] += 1\n",
    "      asleep_min[on_duty] += (event.minute - sleep_minute)\n",
    "  \n",
    "  longest_asleep_id, _ = max(asleep_min.items(), key=lambda x: x[1])\n",
    "  return longest_asleep_id * np.argmax(guards[longest_asleep_id])\n",
    "\n",
    "day4_pt1(in4)"
   ]
  },
  {
   "cell_type": "code",
   "execution_count": 5,
   "metadata": {},
   "outputs": [
    {
     "data": {
      "text/plain": [
       "39940"
      ]
     },
     "execution_count": 5,
     "metadata": {},
     "output_type": "execute_result"
    }
   ],
   "source": [
    "def day4_pt2(in_):\n",
    "  guards = defaultdict(lambda: np.array([0] * 60))\n",
    "  on_duty = None\n",
    "  for event in sorted(map(structure, in_)):\n",
    "    if event.action == SWITCH:\n",
    "      on_duty = event.guard\n",
    "    elif event.action == SLEEP:\n",
    "      sleep_minute = event.minute\n",
    "    else:\n",
    "      guards[on_duty][sleep_minute:event.minute] += 1\n",
    "  \n",
    "  longest_asleep_id, _ = max(guards.items(), key=lambda x: max(x[1]))\n",
    "  return longest_asleep_id * np.argmax(guards[longest_asleep_id])\n",
    "\n",
    "day4_pt2(in4)"
   ]
  },
  {
   "cell_type": "markdown",
   "metadata": {},
   "source": [
    "# [Day5](https://adventofcode.com/2018/day/5)\n",
    "\n",
    "### For example:\n",
    "- In aA, a and A react, leaving nothing behind.\n",
    "- In abBA, bB destroys itself, leaving aA. As above, this then destroys itself, leaving nothing.\n",
    "- In abAB, no two adjacent units are of the same type, and so nothing happens.\n",
    "- In aabAAB, even though aa and AA are of the same type, their polarities match, and so nothing happens.\n",
    "\n",
    "Now, consider a larger example, dabAcCaCBAcCcaDA:\n",
    "\n",
    "```\n",
    "dabAcCaCBAcCcaDA  The first 'cC' is removed.\n",
    "dabAaCBAcCcaDA    This creates 'Aa', which is removed.\n",
    "dabCBAcCcaDA      Either 'cC' or 'Cc' are removed (the result is the same).\n",
    "dabCBAcaDA        No further actions can be taken.\n",
    "After all possible reactions, the resulting polymer contains 10 units.\n",
    "```\n",
    "\n",
    "How many units remain after fully reacting the polymer you scanned? "
   ]
  },
  {
   "cell_type": "code",
   "execution_count": 3,
   "metadata": {},
   "outputs": [],
   "source": [
    "in5 = Input(5).read().strip()"
   ]
  },
  {
   "cell_type": "code",
   "execution_count": 12,
   "metadata": {},
   "outputs": [
    {
     "data": {
      "text/plain": [
       "11590"
      ]
     },
     "execution_count": 12,
     "metadata": {},
     "output_type": "execute_result"
    }
   ],
   "source": [
    "def day5_pt1(s):\n",
    "  stack = ['']\n",
    "  for c in s:\n",
    "    same_letter = stack[-1].lower() == c.lower()\n",
    "    opposite_polarities = stack[-1] != c\n",
    "    if same_letter and opposite_polarities:\n",
    "      stack.pop()\n",
    "    else:\n",
    "      stack.append(c)\n",
    "      \n",
    "  return len(stack) - 1\n",
    "\n",
    "day5_pt1(in5)"
   ]
  },
  {
   "cell_type": "markdown",
   "metadata": {},
   "source": [
    "## Part 2\n",
    "\n",
    "One of the unit types is causing problems; it's preventing the polymer from collapsing as much as it should. Your goal is to figure out which unit type is causing the most problems, remove all instances of it (regardless of polarity), fully react the remaining polymer, and measure its length.\n",
    "\n",
    "For example, again using the polymer dabAcCaCBAcCcaDA from above:\n",
    "\n",
    "- Removing all A/a units produces dbcCCBcCcD. Fully reacting this polymer produces dbCBcD, which has length 6.\n",
    "- Removing all B/b units produces daAcCaCAcCcaDA. Fully reacting this polymer produces daCAcaDA, which has length 8.\n",
    "- Removing all C/c units produces dabAaBAaDA. Fully reacting this polymer produces daDA, which has length 4.\n",
    "- Removing all D/d units produces abAcCaCBAcCcaA. Fully reacting this polymer produces abCBAc, which has length 6.\n",
    "\n",
    "In this example, removing all C/c units was best, producing the answer 4.\n",
    "\n",
    "What is the length of the shortest polymer you can produce by removing all units of exactly one type and fully reacting the result?"
   ]
  },
  {
   "cell_type": "code",
   "execution_count": 34,
   "metadata": {},
   "outputs": [
    {
     "data": {
      "text/plain": [
       "(4504, 'N')"
      ]
     },
     "execution_count": 34,
     "metadata": {},
     "output_type": "execute_result"
    }
   ],
   "source": [
    "def day5_pt2(s):\n",
    "  all_chars = 'ABCDEFGHIJKLMNOPQRSTUVWXYZ'\n",
    "  replace_char = lambda c: s.replace(c, '').replace(c.lower(), '')\n",
    "  lengths = map(day5_pt1, map(replace_char, all_chars))\n",
    "  return min(zip(lengths, all_chars))\n",
    "\n",
    "day5_pt2(in5)"
   ]
  }
 ],
 "metadata": {
  "kernelspec": {
   "display_name": "Python 3",
   "language": "python",
   "name": "python3"
  },
  "language_info": {
   "codemirror_mode": {
    "name": "ipython",
    "version": 3
   },
   "file_extension": ".py",
   "mimetype": "text/x-python",
   "name": "python",
   "nbconvert_exporter": "python",
   "pygments_lexer": "ipython3",
   "version": "3.7.0"
  }
 },
 "nbformat": 4,
 "nbformat_minor": 2
}
